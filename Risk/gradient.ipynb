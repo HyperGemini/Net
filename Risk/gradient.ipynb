{
 "cells": [
  {
   "cell_type": "code",
   "execution_count": 63,
   "id": "initial_id",
   "metadata": {
    "collapsed": true,
    "ExecuteTime": {
     "end_time": "2024-02-06T20:14:40.626423600Z",
     "start_time": "2024-02-06T20:14:40.603322100Z"
    }
   },
   "outputs": [],
   "source": [
    "import numpy as np\n",
    "from scipy import optimize as opt"
   ]
  },
  {
   "cell_type": "code",
   "outputs": [],
   "source": [
    "# Funkcija za optimizaciju\n",
    "def f(point):\n",
    "    x = point[0]\n",
    "    y = point[1]\n",
    "    return (1 - x) ** 2 + 100 * (y - x ** 2) ** 2"
   ],
   "metadata": {
    "collapsed": false,
    "ExecuteTime": {
     "end_time": "2024-02-06T20:14:41.257869600Z",
     "start_time": "2024-02-06T20:14:41.214747600Z"
    }
   },
   "id": "3a13f8ae345d412",
   "execution_count": 64
  },
  {
   "cell_type": "code",
   "outputs": [
    {
     "data": {
      "text/plain": "968.4200000000003"
     },
     "execution_count": 65,
     "metadata": {},
     "output_type": "execute_result"
    }
   ],
   "source": [
    "initial_point = np.array([2.1, 1.3])\n",
    "f(initial_point)"
   ],
   "metadata": {
    "collapsed": false,
    "ExecuteTime": {
     "end_time": "2024-02-06T20:14:41.875786300Z",
     "start_time": "2024-02-06T20:14:41.863196400Z"
    }
   },
   "id": "265858b2216c1213",
   "execution_count": 65
  },
  {
   "cell_type": "code",
   "outputs": [],
   "source": [
    "# Parcijalni izvod u prvoj tacki\n",
    "def df_dx(point):\n",
    "    x = point[0]\n",
    "    y = point[1]\n",
    "    return 2 * (200 * (x ** 3) - 200 * x * y + x - 1)"
   ],
   "metadata": {
    "collapsed": false,
    "ExecuteTime": {
     "end_time": "2024-02-06T20:14:42.719928400Z",
     "start_time": "2024-02-06T20:14:42.679054200Z"
    }
   },
   "id": "709007177529d96a",
   "execution_count": 66
  },
  {
   "cell_type": "code",
   "outputs": [
    {
     "data": {
      "text/plain": "2614.6000000000004"
     },
     "execution_count": 67,
     "metadata": {},
     "output_type": "execute_result"
    }
   ],
   "source": [
    "df_dx(initial_point)"
   ],
   "metadata": {
    "collapsed": false,
    "ExecuteTime": {
     "end_time": "2024-02-06T20:14:44.116505Z",
     "start_time": "2024-02-06T20:14:44.095571500Z"
    }
   },
   "id": "57bdf8b02259fc03",
   "execution_count": 67
  },
  {
   "cell_type": "code",
   "outputs": [],
   "source": [
    "# Parcijalni izvod u drugoj tacki\n",
    "def df_dy(point):\n",
    "    x = point[0]\n",
    "    y = point[1]\n",
    "    return 200 * (y - x ** 2)"
   ],
   "metadata": {
    "collapsed": false,
    "ExecuteTime": {
     "end_time": "2024-02-06T20:14:45.330799400Z",
     "start_time": "2024-02-06T20:14:45.298462100Z"
    }
   },
   "id": "6bb6d56ac2a4ee5",
   "execution_count": 68
  },
  {
   "cell_type": "code",
   "outputs": [
    {
     "data": {
      "text/plain": "-622.0000000000001"
     },
     "execution_count": 69,
     "metadata": {},
     "output_type": "execute_result"
    }
   ],
   "source": [
    "df_dy(initial_point)"
   ],
   "metadata": {
    "collapsed": false,
    "ExecuteTime": {
     "end_time": "2024-02-06T20:14:46.484170600Z",
     "start_time": "2024-02-06T20:14:46.464162200Z"
    }
   },
   "id": "9035a033dd70b2ea",
   "execution_count": 69
  },
  {
   "cell_type": "code",
   "outputs": [],
   "source": [
    "# Vrednost gradijenta u zadatoj tacki\n",
    "def compute_gradient(tacka):\n",
    "    return np.array([df_dx(tacka), df_dy(tacka)])"
   ],
   "metadata": {
    "collapsed": false,
    "ExecuteTime": {
     "end_time": "2024-02-06T20:14:47.397363400Z",
     "start_time": "2024-02-06T20:14:47.377785100Z"
    }
   },
   "id": "8bcddbbc62dabbae",
   "execution_count": 70
  },
  {
   "cell_type": "code",
   "outputs": [
    {
     "name": "stdout",
     "output_type": "stream",
     "text": [
      "[2614.6 -622. ]\n"
     ]
    }
   ],
   "source": [
    "print(compute_gradient(initial_point))"
   ],
   "metadata": {
    "collapsed": false,
    "ExecuteTime": {
     "end_time": "2024-02-06T20:14:49.119425800Z",
     "start_time": "2024-02-06T20:14:49.070499Z"
    }
   },
   "id": "d8c40f6a7a4a55fa",
   "execution_count": 71
  },
  {
   "cell_type": "code",
   "outputs": [],
   "source": [
    "# def gradient_descent(x0, fun, calculate_gradient, alpha, num_iters, eps):\n",
    "#     result = {}\n",
    "#     current_point = x0.copy()\n",
    "#     \n",
    "#     for i in range(num_iters):\n",
    "#         gradient = calculate_gradient(current_point)\n",
    "#         new_point = current_point - alpha * gradient\n",
    "#         \n",
    "#         if abs(fun(new_point) - fun(current_point)) < eps:\n",
    "#             result['converged'] = True\n",
    "#             break\n",
    "#         \n",
    "#         current_point = new_point\n",
    "#             \n",
    "#     if 'converged' not in result:\n",
    "#         result['converged'] = False\n",
    "#         \n",
    "#     result['iter'] = i\n",
    "#     result['current_point'] = current_point\n",
    "#     \n",
    "#     return result"
   ],
   "metadata": {
    "collapsed": false,
    "ExecuteTime": {
     "end_time": "2024-02-06T20:14:53.831344400Z",
     "start_time": "2024-02-06T20:14:53.810408600Z"
    }
   },
   "id": "ac17eb5d34149e0f",
   "execution_count": 72
  },
  {
   "cell_type": "code",
   "outputs": [],
   "source": [
    "initial_point = np.array((2.1, 1.3))\n",
    "max_iter = 100\n",
    "eps = 1e-5"
   ],
   "metadata": {
    "collapsed": false,
    "ExecuteTime": {
     "end_time": "2024-02-06T20:18:11.961370500Z",
     "start_time": "2024-02-06T20:18:11.831045200Z"
    }
   },
   "id": "6e2d8421ed8c58e9",
   "execution_count": 75
  },
  {
   "cell_type": "code",
   "outputs": [],
   "source": [
    "def f(x):\n",
    "    return 0.5*(x[0]**2 + 10*x[1]**2)"
   ],
   "metadata": {
    "collapsed": false,
    "ExecuteTime": {
     "end_time": "2024-02-06T20:17:34.183274800Z",
     "start_time": "2024-02-06T20:17:34.160091600Z"
    }
   },
   "id": "235290f9a58b022",
   "execution_count": 73
  },
  {
   "cell_type": "code",
   "outputs": [],
   "source": [
    "def gradient(x):\n",
    "    return np.array([x[0], 10*x[1]])"
   ],
   "metadata": {
    "collapsed": false,
    "ExecuteTime": {
     "end_time": "2024-02-06T20:17:51.493536300Z",
     "start_time": "2024-02-06T20:17:51.436203900Z"
    }
   },
   "id": "572e2c0cf7ee4162",
   "execution_count": 74
  },
  {
   "cell_type": "code",
   "outputs": [],
   "source": [
    "x0 = np.array((700,400))\n",
    "alpha = 0.01\n",
    "num_iters = 10000\n",
    "tol = 1e-5"
   ],
   "metadata": {
    "collapsed": false,
    "ExecuteTime": {
     "end_time": "2024-02-06T20:18:25.337527200Z",
     "start_time": "2024-02-06T20:18:25.309899300Z"
    }
   },
   "id": "32a01eb00c673df2",
   "execution_count": 76
  },
  {
   "cell_type": "code",
   "outputs": [],
   "source": [
    "# gradient_descent(x0, f, gradient, alpha, num_iters, tol)"
   ],
   "metadata": {
    "collapsed": false,
    "ExecuteTime": {
     "end_time": "2024-02-06T21:45:22.716475Z",
     "start_time": "2024-02-06T21:45:22.682845700Z"
    }
   },
   "id": "86050921e18fe593",
   "execution_count": 82
  },
  {
   "cell_type": "code",
   "outputs": [],
   "source": [],
   "metadata": {
    "collapsed": false,
    "ExecuteTime": {
     "end_time": "2024-02-06T21:45:26.011538800Z",
     "start_time": "2024-02-06T21:45:25.983787800Z"
    }
   },
   "id": "e6e3f2d2fddc29b2",
   "execution_count": 82
  },
  {
   "cell_type": "code",
   "outputs": [],
   "source": [
    "def calculate_step(prev_point, curr_point, gradient):\n",
    "    prev_grad = gradient(prev_point)\n",
    "    curr_grad = gradient(curr_point)\n",
    "    \n",
    "    return ((curr_point - prev_point).T * (curr_grad - prev_grad)) / (np.linalg.norm(curr_grad - prev_grad) ** 2)"
   ],
   "metadata": {
    "collapsed": false,
    "ExecuteTime": {
     "end_time": "2024-02-06T21:03:11.944856800Z",
     "start_time": "2024-02-06T21:03:11.924226400Z"
    }
   },
   "id": "b1b64f22392fa2c8",
   "execution_count": 78
  },
  {
   "cell_type": "code",
   "outputs": [],
   "source": [
    "def barzilai_borwein(fun, gradient, x0, gamma0, max_iterations, eps):\n",
    "    result = {}\n",
    "    \n",
    "    curr_point = x0.copy()\n",
    "    prev_point = None\n",
    "    \n",
    "    for i in range(1, max_iterations+1):\n",
    "        if i >= 2:\n",
    "            step = calculate_step(prev_point, curr_point, gradient)\n",
    "        else:\n",
    "            step = gamma0\n",
    "        \n",
    "        new_point = curr_point - step * gradient(curr_point)\n",
    "            \n",
    "        if np.linalg.norm(new_point) < eps:\n",
    "            result['converged'] = True\n",
    "            break\n",
    "            \n",
    "        prev_point = curr_point\n",
    "        curr_point = new_point\n",
    "            \n",
    "        \n",
    "    if 'converged' not in result:\n",
    "        result['converged'] = False\n",
    "        \n",
    "    result['num_iter'] = i\n",
    "    result['current_point'] = curr_point\n",
    "    \n",
    "    return result"
   ],
   "metadata": {
    "collapsed": false,
    "ExecuteTime": {
     "end_time": "2024-02-06T21:57:50.560336700Z",
     "start_time": "2024-02-06T21:57:50.530713800Z"
    }
   },
   "id": "16d92687bfc3dfd4",
   "execution_count": 83
  },
  {
   "cell_type": "code",
   "outputs": [
    {
     "name": "stderr",
     "output_type": "stream",
     "text": [
      "C:\\Users\\Darko\\AppData\\Local\\Temp\\ipykernel_1500\\2829931002.py:5: RuntimeWarning: invalid value encountered in divide\n",
      "  return ((curr_point - prev_point).T * (grad_curr - grad_prev)) / (np.linalg.norm(grad_curr - grad_prev) ** 2)\n"
     ]
    }
   ],
   "source": [
    "initial_point = np.array([2.1, 1.3])\n",
    "gamma0 = 0.01\n",
    "max_iterations = 100\n",
    "eps = 1e-8\n",
    "sol = barzilai_borwein(f, compute_gradient, initial_point, gamma0, max_iterations, eps)"
   ],
   "metadata": {
    "collapsed": false,
    "ExecuteTime": {
     "end_time": "2024-02-06T23:05:40.034366700Z",
     "start_time": "2024-02-06T23:05:39.645644900Z"
    }
   },
   "id": "e12d3654c3782ec7",
   "execution_count": 85
  },
  {
   "cell_type": "code",
   "outputs": [],
   "source": [],
   "metadata": {
    "collapsed": false
   },
   "id": "1f11eb2c683e32fe"
  }
 ],
 "metadata": {
  "kernelspec": {
   "display_name": "Python 3",
   "language": "python",
   "name": "python3"
  },
  "language_info": {
   "codemirror_mode": {
    "name": "ipython",
    "version": 2
   },
   "file_extension": ".py",
   "mimetype": "text/x-python",
   "name": "python",
   "nbconvert_exporter": "python",
   "pygments_lexer": "ipython2",
   "version": "2.7.6"
  }
 },
 "nbformat": 4,
 "nbformat_minor": 5
}
