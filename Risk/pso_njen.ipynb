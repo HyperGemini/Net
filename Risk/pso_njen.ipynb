{
 "cells": [
  {
   "cell_type": "code",
   "execution_count": 1,
   "metadata": {},
   "outputs": [],
   "source": [
    "import numpy as np\n",
    "import random\n",
    "import matplotlib.pyplot as plt"
   ]
  },
  {
   "cell_type": "code",
   "execution_count": 2,
   "metadata": {},
   "outputs": [],
   "source": [
    "def ackley(x):\n",
    "    d = len(x)\n",
    "    a = 20\n",
    "    b = 0.2\n",
    "    c = 2 * np.pi\n",
    "    first_sum = np.sum(np.square(x))\n",
    "    second_sum = np.sum(np.cos(np.multiply(c, x)))\n",
    "    return -a*np.exp(-b*np.sqrt(first_sum / d)) - np.exp(second_sum / d) + a + np.exp(1)"
   ]
  },
  {
   "cell_type": "code",
   "execution_count": 3,
   "metadata": {},
   "outputs": [],
   "source": [
    "n = 5\n",
    "bounds = [(-32, 32) for _ in range(n)]"
   ]
  },
  {
   "cell_type": "markdown",
   "metadata": {},
   "source": [
    "Koristeći optimizaciju rojem čestica (PSO) minimizovati Aklijevu funkciju na datom opsegu.\n",
    "\n",
    "Napraviti klasu $Particle$ koja predstavlja jednu česticu i ima metode $updatePosition$ i $updateVelocity$ koji ažuriraju poziciju i brzinu čestice.\n",
    "\n",
    "Za parametre $w$, $c1$ i $c2$ uzeti redom vrednosti $0.75$, $1$ i $2$."
   ]
  },
  {
   "cell_type": "code",
   "execution_count": 4,
   "metadata": {},
   "outputs": [],
   "source": [
    "class Particle:\n",
    "\n",
    "    def __init__(self, objective, bounds, w, c1, c2):\n",
    "        self.position = []\n",
    "        self.velocity = []\n",
    "\n",
    "        self.lower_bounds = bounds[0][0]\n",
    "        self.upper_bounds = bounds[0][1]\n",
    "\n",
    "        self.position.append(np.random.uniform(self.lower_bounds, self.upper_bounds, len(bounds)))\n",
    "        self.velocity.append(np.random.uniform(-1, 1, len(bounds)))\n",
    "\n",
    "        self.bestPosition = list(self.position)\n",
    "        self.currentValue = objective(self.position)\n",
    "        self.bestValue = objective(self.bestPosition)\n",
    "\n",
    "        self.objective = objective\n",
    "        self.bounds = bounds\n",
    "        self.w = w\n",
    "        self.c1 = c1\n",
    "        self.c2 = c2\n",
    "\n",
    "    def updatePosition(self, globalBestPosition, globalBestValue):\n",
    "        self.position.append(np.clip(self.position[-1] + self.velocity[-1], self.lower_bounds, self.upper_bounds))\n",
    "        self.value = self.objective(self.position[-1])\n",
    "\n",
    "        if self.value < self.bestValue:\n",
    "            self.bestPosition.append(self.position[-1])\n",
    "            self.bestValue = self.value\n",
    "            if not globalBestPosition or not globalBestValue or globalBestValue[-1] > self.value:\n",
    "                globalBestPosition.append(self.position[-1])\n",
    "                globalBestValue.append(self.value)\n",
    "            else:\n",
    "                globalBestPosition.append(globalBestPosition[-1])\n",
    "\n",
    "    def updateVelocity(self, globalBestPosition):\n",
    "        if not globalBestPosition:\n",
    "            globalBestPosition.append(self.bestPosition)\n",
    "        else:\n",
    "            cognitive_velocity = self.bestPosition[-1] - self.position[-1]\n",
    "            social_velocity = globalBestPosition[-1][-1] - self.position[-1]\n",
    "\n",
    "            rp = np.random.random(len(cognitive_velocity))\n",
    "            rs = np.random.random(len(social_velocity))\n",
    "\n",
    "            self.velocity.append(\n",
    "                self.w * self.velocity[-1] + self.c1 * rp * cognitive_velocity + self.c2 * rs * social_velocity)"
   ]
  },
  {
   "cell_type": "markdown",
   "metadata": {},
   "source": [
    "Napisati funkciju $pso$ koja pravi roj od $numParticles$ čestica i vrši optimizaciju.\n",
    "\n",
    "Uslov zaustavljanja je broj iteracija $iters$.\n",
    "\n",
    "Nacrtati grafik promene vrednosti najboljeg rešenja kroz iteracije.\n",
    "\n",
    "Iz funkcije vratiti poziciju i vrednost najboljeg rešenja."
   ]
  },
  {
   "cell_type": "code",
   "execution_count": 5,
   "metadata": {},
   "outputs": [],
   "source": [
    "def pso(numParticles, iters):\n",
    "    globalBestPosition = []\n",
    "    globalBestValue = []\n",
    "\n",
    "    swarm = [Particle(ackley, bounds, 0.75, 1, 2) for _ in range(numParticles)]\n",
    "\n",
    "    for i in range(iters):\n",
    "        for s in swarm:\n",
    "            s.updateVelocity(globalBestPosition)\n",
    "            s.updatePosition(globalBestPosition, globalBestValue)\n",
    "\n",
    "    plt.plot(globalBestValue)\n",
    "    plt.show()\n",
    "    \n",
    "    return globalBestPosition[-1], globalBestValue[-1]\n"
   ]
  },
  {
   "cell_type": "markdown",
   "metadata": {},
   "source": [
    "Minimum ove funkcije je nula i dostiže se u nuli."
   ]
  },
  {
   "cell_type": "code",
   "execution_count": 6,
   "metadata": {},
   "outputs": [
    {
     "data": {
      "image/png": "[encoded data removed]",
      "text/plain": [
       "<Figure size 640x480 with 1 Axes>"
      ]
     },
     "metadata": {},
     "output_type": "display_data"
    },
    {
     "data": {
      "text/plain": [
       "(array([ 0.00058092, -0.00119948, -0.00062814, -0.00140422, -0.00111831]),\n",
       " 0.004211760690534749)"
      ]
     },
     "execution_count": 6,
     "metadata": {},
     "output_type": "execute_result"
    }
   ],
   "source": [
    "pso(25, 300)"
   ]
  },
  {
   "cell_type": "code",
   "execution_count": null,
   "metadata": {},
   "outputs": [],
   "source": []
  }
 ],
 "metadata": {
  "kernelspec": {
   "display_name": "Python 3",
   "language": "python",
   "name": "python3"
  },
  "language_info": {
   "codemirror_mode": {
    "name": "ipython",
    "version": 3
   },
   "file_extension": ".py",
   "mimetype": "text/x-python",
   "name": "python",
   "nbconvert_exporter": "python",
   "pygments_lexer": "ipython3",
   "version": "3.10.11"
  }
 },
 "nbformat": 4,
 "nbformat_minor": 4
}
