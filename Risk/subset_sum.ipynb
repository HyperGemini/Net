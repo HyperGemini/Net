{
 "cells": [
  {
   "cell_type": "code",
   "execution_count": 38,
   "id": "initial_id",
   "metadata": {
    "collapsed": true,
    "ExecuteTime": {
     "end_time": "2024-02-05T16:36:47.176506200Z",
     "start_time": "2024-02-05T16:36:47.155732900Z"
    }
   },
   "outputs": [],
   "source": [
    "import random"
   ]
  },
  {
   "cell_type": "code",
   "outputs": [],
   "source": [
    "array = [6, 2, -4, 23, 56, 8, 3]\n",
    "target = 34"
   ],
   "metadata": {
    "collapsed": false,
    "ExecuteTime": {
     "end_time": "2024-02-05T16:36:48.262762800Z",
     "start_time": "2024-02-05T16:36:48.231130800Z"
    }
   },
   "id": "e7be5108aa5b45f2",
   "execution_count": 39
  },
  {
   "cell_type": "code",
   "outputs": [],
   "source": [
    "class Individual:\n",
    "\n",
    "    def __init__(self, array, target):\n",
    "        self.array = array.copy()\n",
    "        self.target = target\n",
    "        self.code = self.initialize(len(array))\n",
    "        self.fitness = self.calculateFitness()\n",
    "\n",
    "    def initialize(self, n):\n",
    "        genetic_code = random.choices([0, 1], k=n)\n",
    "        return genetic_code\n",
    "\n",
    "    def calculateFitness(self):\n",
    "        sum = 0\n",
    "        for i in range(len(self.array)):\n",
    "            sum += self.array[i] * self.code[i]\n",
    "\n",
    "        return abs(self.target - sum)"
   ],
   "metadata": {
    "collapsed": false,
    "ExecuteTime": {
     "end_time": "2024-02-05T16:36:50.046959700Z",
     "start_time": "2024-02-05T16:36:50.022724700Z"
    }
   },
   "id": "ba5391a8648b4cd0",
   "execution_count": 40
  },
  {
   "cell_type": "code",
   "outputs": [],
   "source": [
    "def select(population, size):\n",
    "    selected = random.sample(population, size)\n",
    "    winner = min(selected, key=lambda x: x.fitness)\n",
    "    \n",
    "    return winner"
   ],
   "metadata": {
    "collapsed": false,
    "ExecuteTime": {
     "end_time": "2024-02-05T16:36:51.258562200Z",
     "start_time": "2024-02-05T16:36:51.239173300Z"
    }
   },
   "id": "6e80fae09c7a5285",
   "execution_count": 41
  },
  {
   "cell_type": "code",
   "outputs": [],
   "source": [
    "def crossover(parent1, parent2):\n",
    "    break_point = random.randint(1, len(parent1.code))\n",
    "    \n",
    "    child1_code = parent1.code[:break_point] + parent2.code[break_point:]\n",
    "    child2_code = parent2.code[:break_point] + parent1.code[break_point:]\n",
    "\n",
    "    child1 = Individual(parent1.array, parent1.target)\n",
    "    child1.code = child1_code\n",
    "\n",
    "    child2 = Individual(parent2.array, parent2.target)\n",
    "    child2.code = child2_code\n",
    "\n",
    "    return child1, child2"
   ],
   "metadata": {
    "collapsed": false,
    "ExecuteTime": {
     "end_time": "2024-02-05T16:36:52.094537200Z",
     "start_time": "2024-02-05T16:36:52.020405900Z"
    }
   },
   "id": "f843f81fe91eb342",
   "execution_count": 42
  },
  {
   "cell_type": "code",
   "outputs": [],
   "source": [
    "def mutation(individual, probability):\n",
    "    random_value = random.random()\n",
    "    if random_value < probability:\n",
    "        random_index = random.randrange(len(individual.code))\n",
    "        \n",
    "        if individual.code[random_index] == 0:\n",
    "            individual.code[random_index] = 1\n",
    "        else:\n",
    "            individual.code[random_index] = 0"
   ],
   "metadata": {
    "collapsed": false,
    "ExecuteTime": {
     "end_time": "2024-02-05T16:36:53.646142500Z",
     "start_time": "2024-02-05T16:36:53.628281100Z"
    }
   },
   "id": "403adafe06604717",
   "execution_count": 43
  },
  {
   "cell_type": "code",
   "outputs": [],
   "source": [
    "POPULATION_SIZE = 100\n",
    "SELECTION_SIZE = 6\n",
    "MUTATION_PROB = 0.05\n",
    "ELITISM_SIZE = int(POPULATION_SIZE * POPULATION_SIZE)\n",
    "MAX_ITER = 500"
   ],
   "metadata": {
    "collapsed": false,
    "ExecuteTime": {
     "end_time": "2024-02-05T16:36:54.935530600Z",
     "start_time": "2024-02-05T16:36:54.905289400Z"
    }
   },
   "id": "2f4c896b601cf9e",
   "execution_count": 44
  },
  {
   "cell_type": "code",
   "outputs": [],
   "source": [
    "population = [Individual(array, target) for _ in range(POPULATION_SIZE)]\n",
    "\n",
    "for iteration in range(MAX_ITER):\n",
    "    # selekcija\n",
    "    selected_population = [select(population, SELECTION_SIZE) for _ in range(POPULATION_SIZE - ELITISM_SIZE)]\n",
    "    \n",
    "    # elitizam\n",
    "    elite_individuals = sorted(population, key=lambda x: x.fitness)[:ELITISM_SIZE]\n",
    "    \n",
    "    # Ukrstanje\n",
    "    offspring = []\n",
    "    while len(offspring) < (POPULATION_SIZE - ELITISM_SIZE):\n",
    "        parent1, parent2 = random.sample(selected_population, 2)\n",
    "        child1, child2 = crossover(parent1, parent2)\n",
    "        offspring.extend([child1, child2])\n",
    "        \n",
    "    # Mutacija\n",
    "    for individual in offspring:\n",
    "        mutation(individual, MUTATION_PROB)\n",
    "        \n",
    "    # Nova populacija\n",
    "    new_population = elite_individuals + offspring\n",
    "    for individual in new_population:\n",
    "        individual.fitness = individual.calculateFitness()\n",
    "        \n",
    "    population = new_population\n",
    "    \n",
    "best_individual = min(population, key=lambda x: x.fitness)"
   ],
   "metadata": {
    "collapsed": false,
    "ExecuteTime": {
     "end_time": "2024-02-05T16:36:56.564959900Z",
     "start_time": "2024-02-05T16:36:56.415268200Z"
    }
   },
   "id": "7b433b25e54d5988",
   "execution_count": 45
  },
  {
   "cell_type": "code",
   "outputs": [
    {
     "name": "stdout",
     "output_type": "stream",
     "text": [
      "Najbolja jedinka:\n",
      " - Genetski kod: [1, 1, 0, 1, 0, 0, 1]\n",
      " - Fitness vrednost: 0\n"
     ]
    }
   ],
   "source": [
    "print(\"Najbolja jedinka:\")\n",
    "print(\" - Genetski kod:\", best_individual.code)\n",
    "print(\" - Fitness vrednost:\", best_individual.fitness)"
   ],
   "metadata": {
    "collapsed": false,
    "ExecuteTime": {
     "end_time": "2024-02-05T16:36:58.074545900Z",
     "start_time": "2024-02-05T16:36:57.988424900Z"
    }
   },
   "id": "6a3c6f927df27aac",
   "execution_count": 46
  },
  {
   "cell_type": "code",
   "outputs": [],
   "source": [],
   "metadata": {
    "collapsed": false,
    "ExecuteTime": {
     "end_time": "2024-02-04T19:40:02.406765200Z",
     "start_time": "2024-02-04T19:40:02.359207600Z"
    }
   },
   "id": "8ccc3dec19833df2",
   "execution_count": 36
  },
  {
   "cell_type": "code",
   "outputs": [],
   "source": [],
   "metadata": {
    "collapsed": false
   },
   "id": "2cf0476e3614a563"
  }
 ],
 "metadata": {
  "kernelspec": {
   "display_name": "Python 3",
   "language": "python",
   "name": "python3"
  },
  "language_info": {
   "codemirror_mode": {
    "name": "ipython",
    "version": 2
   },
   "file_extension": ".py",
   "mimetype": "text/x-python",
   "name": "python",
   "nbconvert_exporter": "python",
   "pygments_lexer": "ipython2",
   "version": "2.7.6"
  }
 },
 "nbformat": 4,
 "nbformat_minor": 5
}
