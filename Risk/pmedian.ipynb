{
 "cells": [
  {
   "cell_type": "code",
   "execution_count": 57,
   "id": "initial_id",
   "metadata": {
    "collapsed": true,
    "ExecuteTime": {
     "end_time": "2024-02-06T14:00:55.327729900Z",
     "start_time": "2024-02-06T14:00:55.297572Z"
    }
   },
   "outputs": [],
   "source": [
    "import random"
   ]
  },
  {
   "cell_type": "code",
   "outputs": [],
   "source": [
    "C = [[1,2,1,4],\n",
    "     [6,1,2,3],\n",
    "     [5,2,3,1],\n",
    "     [3,3,3,8],\n",
    "     [4,5,3,2]\n",
    "     ]\n",
    "\n",
    "p = 2"
   ],
   "metadata": {
    "collapsed": false,
    "ExecuteTime": {
     "end_time": "2024-02-06T14:00:56.002732800Z",
     "start_time": "2024-02-06T14:00:55.972387300Z"
    }
   },
   "id": "793506767fc26440",
   "execution_count": 58
  },
  {
   "cell_type": "code",
   "outputs": [],
   "source": [
    "def initialize(n, p):\n",
    "    initial_solution = [False] * n\n",
    "    \n",
    "    selected_locations = random.sample(range(n), p)\n",
    "    for location in selected_locations:\n",
    "        initial_solution[location] = True\n",
    "    \n",
    "    return initial_solution"
   ],
   "metadata": {
    "collapsed": false,
    "ExecuteTime": {
     "end_time": "2024-02-06T14:00:56.552861700Z",
     "start_time": "2024-02-06T14:00:56.545490100Z"
    }
   },
   "id": "a35a88a89d3c5c78",
   "execution_count": 59
  },
  {
   "cell_type": "code",
   "outputs": [
    {
     "name": "stdout",
     "output_type": "stream",
     "text": [
      "[False, True, True, False]\n"
     ]
    }
   ],
   "source": [
    "print(initialize(len(C[0]), 2))"
   ],
   "metadata": {
    "collapsed": false,
    "ExecuteTime": {
     "end_time": "2024-02-06T14:00:57.440721600Z",
     "start_time": "2024-02-06T14:00:57.422867600Z"
    }
   },
   "id": "5405a2cd56bf3836",
   "execution_count": 60
  },
  {
   "cell_type": "code",
   "outputs": [],
   "source": [
    "# def calcSolutionValue(solution, C):\n",
    "#     total_cost = 0\n",
    "#     \n",
    "#     for i in range(len(C)):\n",
    "#         min_cost = -1\n",
    "#         indicator = False\n",
    "#         \n",
    "#         for j in range(len(C[0])):\n",
    "#             if solution[j]:\n",
    "#                 if not indicator:\n",
    "#                     min_cost = C[i][j]\n",
    "#                     indicator = True\n",
    "#                 else:\n",
    "#                     min_cost = min(min_cost, C[i][j])\n",
    "#         total_cost += min_cost\n",
    "#         \n",
    "#     return total_cost"
   ],
   "metadata": {
    "collapsed": false,
    "ExecuteTime": {
     "end_time": "2024-02-06T14:00:59.006597800Z",
     "start_time": "2024-02-06T14:00:58.990948400Z"
    }
   },
   "id": "935b1a543edb8072",
   "execution_count": 61
  },
  {
   "cell_type": "code",
   "outputs": [],
   "source": [],
   "metadata": {
    "collapsed": false,
    "ExecuteTime": {
     "end_time": "2024-02-06T14:01:00.202335300Z",
     "start_time": "2024-02-06T14:01:00.179892500Z"
    }
   },
   "id": "2a7857e599dab833",
   "execution_count": 61
  },
  {
   "cell_type": "code",
   "outputs": [],
   "source": [
    "def calcSolutionValue(solution, C):\n",
    "    total_cost = 0\n",
    "\n",
    "    for i in range(len(C)):\n",
    "        min_cost = None\n",
    "\n",
    "        for j, is_assigned in enumerate(solution):\n",
    "            if is_assigned:\n",
    "                cost = C[i][j]\n",
    "                if min_cost is None or cost < min_cost:\n",
    "                    min_cost = cost\n",
    "\n",
    "        total_cost += min_cost\n",
    "\n",
    "    return total_cost"
   ],
   "metadata": {
    "collapsed": false,
    "ExecuteTime": {
     "end_time": "2024-02-06T14:01:00.692414300Z",
     "start_time": "2024-02-06T14:01:00.666812300Z"
    }
   },
   "id": "7ecccf1f033d45ca",
   "execution_count": 62
  },
  {
   "cell_type": "code",
   "outputs": [
    {
     "data": {
      "text/plain": "9"
     },
     "execution_count": 63,
     "metadata": {},
     "output_type": "execute_result"
    }
   ],
   "source": [
    "solution = [False, False, True, True]\n",
    "calcSolutionValue(solution, C)"
   ],
   "metadata": {
    "collapsed": false,
    "ExecuteTime": {
     "end_time": "2024-02-06T14:01:02.017395900Z",
     "start_time": "2024-02-06T14:01:01.988053400Z"
    }
   },
   "id": "dbceb1199b7b617d",
   "execution_count": 63
  },
  {
   "cell_type": "code",
   "outputs": [
    {
     "data": {
      "text/plain": "12"
     },
     "execution_count": 64,
     "metadata": {},
     "output_type": "execute_result"
    }
   ],
   "source": [
    "solution = [True, False, True, False]\n",
    "calcSolutionValue(solution, C)"
   ],
   "metadata": {
    "collapsed": false,
    "ExecuteTime": {
     "end_time": "2024-02-06T14:01:03.481380800Z",
     "start_time": "2024-02-06T14:01:03.448641400Z"
    }
   },
   "id": "313f29dab4270dd8",
   "execution_count": 64
  },
  {
   "cell_type": "code",
   "outputs": [],
   "source": [
    "def createNewSolution(solution):\n",
    "    assigned = [i for i, elem in enumerate(solution) if elem]\n",
    "    not_assigned = [i for i, elem in enumerate(solution) if not elem]\n",
    "    \n",
    "    first_resource = random.choice(assigned)\n",
    "    second_resource = random.choice(not_assigned)\n",
    "    \n",
    "    solution[first_resource] = False\n",
    "    solution[second_resource] = True\n",
    "    \n",
    "    return solution"
   ],
   "metadata": {
    "collapsed": false,
    "ExecuteTime": {
     "end_time": "2024-02-06T14:01:04.650206500Z",
     "start_time": "2024-02-06T14:01:04.606004100Z"
    }
   },
   "id": "d85e0c96b5782c97",
   "execution_count": 65
  },
  {
   "cell_type": "code",
   "outputs": [
    {
     "name": "stdout",
     "output_type": "stream",
     "text": [
      "[False, False, True, True]\n"
     ]
    }
   ],
   "source": [
    "print(createNewSolution([True, False, True, False]))"
   ],
   "metadata": {
    "collapsed": false,
    "ExecuteTime": {
     "end_time": "2024-02-06T14:01:05.788877900Z",
     "start_time": "2024-02-06T14:01:05.754531200Z"
    }
   },
   "id": "5b0005bfe88f6528",
   "execution_count": 66
  },
  {
   "cell_type": "code",
   "outputs": [],
   "source": [
    "def localSearch(C, p, iters):\n",
    "    current_solution = initialize(4, p)\n",
    "    best_solution = current_solution.copy()\n",
    "    \n",
    "    current_value = calcSolutionValue(current_solution, C)\n",
    "    best_value = current_value\n",
    "    \n",
    "    for i in range(iters):\n",
    "        new_solution = createNewSolution(current_solution)\n",
    "        new_value = calcSolutionValue(new_solution, C)\n",
    "        \n",
    "        if new_value < current_value:\n",
    "            current_solution = new_solution\n",
    "            current_value = new_value\n",
    "            \n",
    "        if current_value < best_value:\n",
    "            best_value = current_value\n",
    "            best_solution = current_solution\n",
    "    \n",
    "    return best_value, best_solution"
   ],
   "metadata": {
    "collapsed": false,
    "ExecuteTime": {
     "end_time": "2024-02-06T14:02:41.144982100Z",
     "start_time": "2024-02-06T14:02:41.087593400Z"
    }
   },
   "id": "41790e5dd9fa422c",
   "execution_count": 70
  },
  {
   "cell_type": "code",
   "outputs": [
    {
     "name": "stdout",
     "output_type": "stream",
     "text": [
      "(9, [False, True, False, True])\n"
     ]
    }
   ],
   "source": [
    "print(localSearch(C, 2, 100))"
   ],
   "metadata": {
    "collapsed": false,
    "ExecuteTime": {
     "end_time": "2024-02-06T14:03:12.476940200Z",
     "start_time": "2024-02-06T14:03:12.464765Z"
    }
   },
   "id": "999ffea02f1c1665",
   "execution_count": 76
  },
  {
   "cell_type": "code",
   "outputs": [],
   "source": [],
   "metadata": {
    "collapsed": false
   },
   "id": "19936f3f38cdb26b"
  }
 ],
 "metadata": {
  "kernelspec": {
   "display_name": "Python 3",
   "language": "python",
   "name": "python3"
  },
  "language_info": {
   "codemirror_mode": {
    "name": "ipython",
    "version": 2
   },
   "file_extension": ".py",
   "mimetype": "text/x-python",
   "name": "python",
   "nbconvert_exporter": "python",
   "pygments_lexer": "ipython2",
   "version": "2.7.6"
  }
 },
 "nbformat": 4,
 "nbformat_minor": 5
}
