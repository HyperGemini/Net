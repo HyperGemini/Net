{
 "cells": [
  {
   "cell_type": "code",
   "execution_count": 1,
   "id": "initial_id",
   "metadata": {
    "collapsed": true,
    "ExecuteTime": {
     "end_time": "2024-02-06T21:46:51.968593200Z",
     "start_time": "2024-02-06T21:46:48.873804800Z"
    }
   },
   "outputs": [],
   "source": [
    "import numpy as np"
   ]
  },
  {
   "cell_type": "code",
   "outputs": [],
   "source": [
    "# Funkcija za optimizaciju\n",
    "def f(point):\n",
    "    x = point[0]\n",
    "    y = point[1]\n",
    "    return (1 - x) ** 2 + 100 * (y - x ** 2) ** 2"
   ],
   "metadata": {
    "collapsed": false,
    "ExecuteTime": {
     "end_time": "2024-02-06T21:47:06.123274Z",
     "start_time": "2024-02-06T21:47:06.022476400Z"
    }
   },
   "id": "55ce96bd6f2aa45f",
   "execution_count": 2
  },
  {
   "cell_type": "code",
   "outputs": [],
   "source": [
    "# Parcijalni izvod u prvoj tacki\n",
    "def df_dx(point):\n",
    "    x = point[0]\n",
    "    y = point[1]\n",
    "    return 2 * (200 * x**3 - 200 * x * y + x - 1)"
   ],
   "metadata": {
    "collapsed": false,
    "ExecuteTime": {
     "end_time": "2024-02-06T23:08:08.644118500Z",
     "start_time": "2024-02-06T23:08:08.466533700Z"
    }
   },
   "id": "bc88a466915be36c",
   "execution_count": 11
  },
  {
   "cell_type": "code",
   "outputs": [],
   "source": [
    "# Parcijalni izvod u drugoj tacki\n",
    "def df_dy(point):\n",
    "    x = point[0]\n",
    "    y = point[1]\n",
    "    return 200 * (y - x ** 2)"
   ],
   "metadata": {
    "collapsed": false,
    "ExecuteTime": {
     "end_time": "2024-02-06T21:47:26.756423100Z",
     "start_time": "2024-02-06T21:47:26.736532900Z"
    }
   },
   "id": "fa890660d48df44e",
   "execution_count": 4
  },
  {
   "cell_type": "code",
   "outputs": [],
   "source": [
    "# Vrednost gradijenta u zadatoj tacki\n",
    "def compute_gradient(tacka):\n",
    "    return np.array([df_dx(tacka), df_dy(tacka)])"
   ],
   "metadata": {
    "collapsed": false,
    "ExecuteTime": {
     "end_time": "2024-02-06T23:08:27.814036500Z",
     "start_time": "2024-02-06T23:08:27.769642200Z"
    }
   },
   "id": "fd299aa1008cabfa",
   "execution_count": 12
  },
  {
   "cell_type": "code",
   "outputs": [],
   "source": [
    "def calculate_step(prev_point, curr_point, gradient):\n",
    "    prev_grad = gradient(prev_point)\n",
    "    curr_grad = gradient(curr_point)\n",
    "    \n",
    "    delta_grad = curr_grad - prev_grad\n",
    "    delta_point = curr_point - prev_point\n",
    "    \n",
    "    dot_product = np.dot(delta_point.T, delta_grad)\n",
    "    \n",
    "    return dot_product / delta_grad"
   ],
   "metadata": {
    "collapsed": false,
    "ExecuteTime": {
     "end_time": "2024-02-06T23:09:23.499765500Z",
     "start_time": "2024-02-06T23:09:23.437097800Z"
    }
   },
   "id": "1a0e007b48805bb1",
   "execution_count": 16
  },
  {
   "cell_type": "code",
   "outputs": [],
   "source": [
    "def barzilai_borwein(fun, gradient, x0, gamma0, max_iterations, eps):\n",
    "    result = {}\n",
    "\n",
    "    curr_point = x0.copy()\n",
    "    prev_point = None\n",
    "\n",
    "    for i in range(1, max_iterations+1):\n",
    "        if i >= 2:\n",
    "            step = calculate_step(prev_point, curr_point, gradient)\n",
    "        else:\n",
    "            step = gamma0\n",
    "\n",
    "        new_point = curr_point - step * gradient(curr_point)\n",
    "\n",
    "        if np.linalg.norm(new_point) < eps:\n",
    "            result['converged'] = True\n",
    "            break\n",
    "\n",
    "        prev_point = curr_point\n",
    "        curr_point = new_point\n",
    "\n",
    "\n",
    "    if 'converged' not in result:\n",
    "        result['converged'] = False\n",
    "\n",
    "    result['num_iter'] = i\n",
    "    result['current_point'] = curr_point\n",
    "\n",
    "    return result"
   ],
   "metadata": {
    "collapsed": false,
    "ExecuteTime": {
     "end_time": "2024-02-06T23:09:24.176203300Z",
     "start_time": "2024-02-06T23:09:24.142575900Z"
    }
   },
   "id": "85d19b05795c42d4",
   "execution_count": 17
  },
  {
   "cell_type": "code",
   "outputs": [
    {
     "name": "stderr",
     "output_type": "stream",
     "text": [
      "C:\\Users\\Darko\\AppData\\Local\\Temp\\ipykernel_308\\3501644873.py:5: RuntimeWarning: overflow encountered in double_scalars\n",
      "  return 2 * (200 * x**3 - 200 * x * y + x - 1)\n",
      "C:\\Users\\Darko\\AppData\\Local\\Temp\\ipykernel_308\\849675050.py:10: RuntimeWarning: invalid value encountered in divide\n",
      "  return dot_product / delta_grad\n"
     ]
    }
   ],
   "source": [
    "initial_point = np.array([2.1, 1.3])\n",
    "gamma0 = 0.01\n",
    "max_iterations = 100\n",
    "eps = 1e-8\n",
    "sol = barzilai_borwein(f, compute_gradient, initial_point, gamma0, max_iterations, eps)"
   ],
   "metadata": {
    "collapsed": false,
    "ExecuteTime": {
     "end_time": "2024-02-06T23:09:24.835233300Z",
     "start_time": "2024-02-06T23:09:24.811000100Z"
    }
   },
   "id": "b6d6130dc91f383a",
   "execution_count": 18
  },
  {
   "cell_type": "code",
   "outputs": [],
   "source": [],
   "metadata": {
    "collapsed": false
   },
   "id": "3f441a118cb58680"
  }
 ],
 "metadata": {
  "kernelspec": {
   "display_name": "Python 3",
   "language": "python",
   "name": "python3"
  },
  "language_info": {
   "codemirror_mode": {
    "name": "ipython",
    "version": 2
   },
   "file_extension": ".py",
   "mimetype": "text/x-python",
   "name": "python",
   "nbconvert_exporter": "python",
   "pygments_lexer": "ipython2",
   "version": "2.7.6"
  }
 },
 "nbformat": 4,
 "nbformat_minor": 5
}
