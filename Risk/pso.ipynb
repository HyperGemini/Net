{
 "cells": [
  {
   "cell_type": "code",
   "execution_count": 39,
   "id": "initial_id",
   "metadata": {
    "collapsed": true,
    "ExecuteTime": {
     "end_time": "2024-02-06T17:50:02.096539600Z",
     "start_time": "2024-02-06T17:50:02.073825300Z"
    }
   },
   "outputs": [],
   "source": [
    "import numpy as np\n",
    "import matplotlib.pyplot as plt"
   ]
  },
  {
   "cell_type": "code",
   "outputs": [],
   "source": [
    "def ackley(x):\n",
    "    d = len(x)\n",
    "    a = 20\n",
    "    b = 0.2\n",
    "    c = 2 * np.pi\n",
    "    first_sum = np.sum(np.square(x))\n",
    "    second_sum = np.sum(np.cos(np.multiply(c, x)))\n",
    "    return -a * np.exp(-b * np.sqrt(first_sum / d)) - np.exp(second_sum / d) + a + np.exp(1)"
   ],
   "metadata": {
    "collapsed": false,
    "ExecuteTime": {
     "end_time": "2024-02-06T17:50:02.753801400Z",
     "start_time": "2024-02-06T17:50:02.690506300Z"
    }
   },
   "id": "ccf66f3e47bc28e",
   "execution_count": 40
  },
  {
   "cell_type": "code",
   "outputs": [],
   "source": [
    "n = 5\n",
    "bounds = [(-32, 32) for _ in range(n)]"
   ],
   "metadata": {
    "collapsed": false,
    "ExecuteTime": {
     "end_time": "2024-02-06T17:50:03.264358100Z",
     "start_time": "2024-02-06T17:50:03.248376600Z"
    }
   },
   "id": "a18451bfa64a0b8f",
   "execution_count": 41
  },
  {
   "cell_type": "code",
   "outputs": [],
   "source": [
    "class Particle:\n",
    "\n",
    "    def __init__(self, objective, bounds, w, c1, c2):\n",
    "\n",
    "        self.lower_bounds = bounds[0][0]\n",
    "        self.upper_bounds = bounds[0][1]\n",
    "        self.position = np.random.uniform(self.lower_bounds, self.upper_bounds, len(bounds))\n",
    "        self.velocity = np.random.uniform(-1, 1, len(bounds))\n",
    "\n",
    "        self.bestPosition = self.position.copy()\n",
    "        self.currentValue = objective(self.position)\n",
    "        self.bestValue = objective(self.bestPosition)\n",
    "        \n",
    "        self.objective = objective\n",
    "        self.bounds = bounds\n",
    "        self.w = w\n",
    "        self.c1 = c1\n",
    "        self.c2 = c2\n",
    "\n",
    "    def updatePosition(self, globalBestPosition, globalBestValue):\n",
    "        self.position = np.clip(self.position + self.velocity,\n",
    "                                self.lower_bounds,\n",
    "                                self.upper_bounds)\n",
    "\n",
    "        self.currentValue = self.objective(self.position)\n",
    "\n",
    "        if self.currentValue < self.bestValue:\n",
    "            self.bestValue = self.currentValue\n",
    "            self.bestPosition = self.position.copy()\n",
    "\n",
    "            if self.currentValue < globalBestValue:\n",
    "                globalBestValue = self.currentValue\n",
    "                globalBestPosition = self.position.copy()\n",
    "\n",
    "        return globalBestPosition, globalBestValue\n",
    "\n",
    "    def updateVelocity(self, globalBestPosition):\n",
    "        if globalBestPosition is None:\n",
    "            globalBestPosition = self.bestPosition.copy()\n",
    "            \n",
    "        cognitive_velocity = self.bestPosition - self.position\n",
    "        social_velocity = globalBestPosition - self.position\n",
    "\n",
    "        r_p = np.random.random(len(cognitive_velocity))\n",
    "        r_s = np.random.random(len(social_velocity))\n",
    "        \n",
    "        self.velocity = (r_p * self.c1 * cognitive_velocity +\n",
    "                         r_s * self.c2 * social_velocity +\n",
    "                         self.w * self.velocity)"
   ],
   "metadata": {
    "collapsed": false,
    "ExecuteTime": {
     "end_time": "2024-02-06T17:50:05.277107100Z",
     "start_time": "2024-02-06T17:50:05.258145600Z"
    }
   },
   "id": "b1071ebd43ab2b2b",
   "execution_count": 42
  },
  {
   "cell_type": "code",
   "outputs": [],
   "source": [],
   "metadata": {
    "collapsed": false,
    "ExecuteTime": {
     "end_time": "2024-02-06T17:50:06.712114800Z",
     "start_time": "2024-02-06T17:50:06.689973900Z"
    }
   },
   "id": "9e9ab7154000a4da",
   "execution_count": 42
  },
  {
   "cell_type": "code",
   "outputs": [],
   "source": [
    "def pso(numParticles, iters):\n",
    "    swarm = [Particle(ackley, bounds, 0.75, 1, 2) for _ in range(numParticles)]\n",
    "\n",
    "    globalBestPosition = None\n",
    "    globalBestValue = float('inf')\n",
    "\n",
    "    bestValues = []\n",
    "\n",
    "    for _ in range(iters):\n",
    "        for particle in swarm:\n",
    "            particle.updateVelocity(globalBestPosition)\n",
    "            globalBestPosition, globalBestValue = particle.updatePosition(globalBestPosition, globalBestValue)\n",
    "\n",
    "        bestValues.append(globalBestValue)\n",
    "\n",
    "    plt.plot(bestValues)\n",
    "    plt.xlabel('Iteracija')\n",
    "    plt.ylabel('Vrednost najboljeg rešenja')\n",
    "    plt.title('Promena vrednosti najboljeg rešenja kroz iteracije')\n",
    "    plt.show()\n",
    "\n",
    "    return globalBestPosition, globalBestValue"
   ],
   "metadata": {
    "collapsed": false,
    "ExecuteTime": {
     "end_time": "2024-02-06T17:50:08.702056300Z",
     "start_time": "2024-02-06T17:50:08.670286Z"
    }
   },
   "id": "8f5170400b223a0c",
   "execution_count": 43
  },
  {
   "cell_type": "code",
   "outputs": [
    {
     "data": {
      "text/plain": "<Figure size 640x480 with 1 Axes>",
      "image/png": "[encoded data removed]"
     },
     "metadata": {},
     "output_type": "display_data"
    },
    {
     "data": {
      "text/plain": "(array([ 4.07870230e-07, -4.18496598e-08,  1.00286364e-07,  1.04060680e-07,\n         9.61856375e-08]),\n 7.964887491773709e-07)"
     },
     "execution_count": 44,
     "metadata": {},
     "output_type": "execute_result"
    }
   ],
   "source": [
    "pso(25, 300)"
   ],
   "metadata": {
    "collapsed": false,
    "ExecuteTime": {
     "end_time": "2024-02-06T17:50:11.702853600Z",
     "start_time": "2024-02-06T17:50:09.829496700Z"
    }
   },
   "id": "59f3d6775cea4a26",
   "execution_count": 44
  },
  {
   "cell_type": "code",
   "outputs": [],
   "source": [],
   "metadata": {
    "collapsed": false
   },
   "id": "4ea2ae232dfb8c25"
  }
 ],
 "metadata": {
  "kernelspec": {
   "display_name": "Python 3",
   "language": "python",
   "name": "python3"
  },
  "language_info": {
   "codemirror_mode": {
    "name": "ipython",
    "version": 2
   },
   "file_extension": ".py",
   "mimetype": "text/x-python",
   "name": "python",
   "nbconvert_exporter": "python",
   "pygments_lexer": "ipython2",
   "version": "2.7.6"
  }
 },
 "nbformat": 4,
 "nbformat_minor": 5
}
