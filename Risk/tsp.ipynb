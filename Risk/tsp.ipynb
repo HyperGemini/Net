{
 "cells": [
  {
   "cell_type": "code",
   "execution_count": 65,
   "id": "initial_id",
   "metadata": {
    "collapsed": true,
    "ExecuteTime": {
     "end_time": "2024-02-05T19:14:07.897699500Z",
     "start_time": "2024-02-05T19:14:07.883226700Z"
    }
   },
   "outputs": [],
   "source": [
    "import random\n",
    "import math"
   ]
  },
  {
   "cell_type": "code",
   "outputs": [],
   "source": [
    "D = [[0,4,1,3],\n",
    "     [4,0,2,1],\n",
    "     [1,2,0,5],\n",
    "     [3,1,5,0]\n",
    "     ]"
   ],
   "metadata": {
    "collapsed": false,
    "ExecuteTime": {
     "end_time": "2024-02-05T17:06:34.213779200Z",
     "start_time": "2024-02-05T17:06:34.182147200Z"
    }
   },
   "id": "5260df1c8125df84",
   "execution_count": 25
  },
  {
   "cell_type": "code",
   "outputs": [],
   "source": [
    "def initialize(n):\n",
    "    cities = list(range(n))\n",
    "    random.shuffle(cities)\n",
    "    \n",
    "    return cities"
   ],
   "metadata": {
    "collapsed": false,
    "ExecuteTime": {
     "end_time": "2024-02-05T18:20:46.688556200Z",
     "start_time": "2024-02-05T18:20:46.663577Z"
    }
   },
   "id": "4ddb66872e58082b",
   "execution_count": 44
  },
  {
   "cell_type": "code",
   "outputs": [
    {
     "name": "stdout",
     "output_type": "stream",
     "text": [
      "[0, 3, 2, 1]\n"
     ]
    }
   ],
   "source": [
    "initial_route = initialize(4)\n",
    "print(initial_route)"
   ],
   "metadata": {
    "collapsed": false,
    "ExecuteTime": {
     "end_time": "2024-02-05T18:20:48.761235600Z",
     "start_time": "2024-02-05T18:20:48.662631900Z"
    }
   },
   "id": "1745d5f036f2c184",
   "execution_count": 45
  },
  {
   "cell_type": "code",
   "outputs": [],
   "source": [
    "def calcSolutionValue(solution, D):\n",
    "    total_distance = 0\n",
    "    for i in range(len(solution)-1):\n",
    "        current_city = solution[i]\n",
    "        next_city = solution[i+1]\n",
    "        total_distance += D[current_city][next_city]\n",
    "    \n",
    "    total_distance += D[solution[-1]][solution[0]]\n",
    "        \n",
    "    return total_distance"
   ],
   "metadata": {
    "collapsed": false,
    "ExecuteTime": {
     "end_time": "2024-02-05T18:37:22.589741400Z",
     "start_time": "2024-02-05T18:37:22.388167700Z"
    }
   },
   "id": "16a86825d44c8302",
   "execution_count": 62
  },
  {
   "cell_type": "code",
   "outputs": [
    {
     "name": "stdout",
     "output_type": "stream",
     "text": [
      "7\n"
     ]
    }
   ],
   "source": [
    "val = calcSolutionValue([0, 2, 1, 3], D)\n",
    "print(val)"
   ],
   "metadata": {
    "collapsed": false,
    "ExecuteTime": {
     "end_time": "2024-02-05T18:37:23.764136800Z",
     "start_time": "2024-02-05T18:37:23.723941300Z"
    }
   },
   "id": "b9a1eb42154d1162",
   "execution_count": 63
  },
  {
   "cell_type": "code",
   "outputs": [
    {
     "name": "stdout",
     "output_type": "stream",
     "text": [
      "14\n"
     ]
    }
   ],
   "source": [
    "val = calcSolutionValue([0, 1, 2, 3], D)\n",
    "print(val)"
   ],
   "metadata": {
    "collapsed": false,
    "ExecuteTime": {
     "end_time": "2024-02-05T18:37:25.137338200Z",
     "start_time": "2024-02-05T18:37:25.111457400Z"
    }
   },
   "id": "819ae52a2da5e55a",
   "execution_count": 64
  },
  {
   "cell_type": "code",
   "outputs": [],
   "source": [
    "def createNewSolution(solution):\n",
    "    random_positions = random.sample(range(len(solution)), 2)\n",
    "    pos1 = random_positions[0]\n",
    "    pos2 = random_positions[1]\n",
    "    solution[pos1], solution[pos2] = solution[pos2], solution[pos1]\n",
    "    return solution"
   ],
   "metadata": {
    "collapsed": false,
    "ExecuteTime": {
     "end_time": "2024-02-05T18:32:41.214198900Z",
     "start_time": "2024-02-05T18:32:41.185285700Z"
    }
   },
   "id": "9b5e9591dce4ecc8",
   "execution_count": 58
  },
  {
   "cell_type": "code",
   "outputs": [],
   "source": [
    "def create_new_route(solution):\n",
    "    new_solution = solution[-1:] + solution[:-1]\n",
    "    return new_solution"
   ],
   "metadata": {
    "collapsed": false,
    "ExecuteTime": {
     "end_time": "2024-02-05T19:45:30.897046200Z",
     "start_time": "2024-02-05T19:45:30.871484500Z"
    }
   },
   "id": "bc13e7d7b580623c",
   "execution_count": 85
  },
  {
   "cell_type": "code",
   "outputs": [
    {
     "name": "stdout",
     "output_type": "stream",
     "text": [
      "[0, 3, 2, 1]\n"
     ]
    }
   ],
   "source": [
    "print(createNewSolution([0, 1, 2, 3]))"
   ],
   "metadata": {
    "collapsed": false,
    "ExecuteTime": {
     "end_time": "2024-02-05T18:32:51.155282800Z",
     "start_time": "2024-02-05T18:32:51.144755600Z"
    }
   },
   "id": "531546e48f13278d",
   "execution_count": 61
  },
  {
   "cell_type": "code",
   "outputs": [],
   "source": [
    "def simulatedAnnealing(D, iters):\n",
    "    n = len(D)\n",
    "    \n",
    "    current_solution = initialize(n)\n",
    "    best_solution = current_solution.copy()\n",
    "    \n",
    "    current_value = calcSolutionValue(current_solution, D)\n",
    "    best_value = current_value\n",
    "    \n",
    "    for i in range(1, iters+1):\n",
    "        new_solution = createNewSolution(current_solution)\n",
    "        new_value = calcSolutionValue(new_solution, D)\n",
    "        \n",
    "        if new_value < current_value:\n",
    "            current_solution = new_solution\n",
    "            current_value = new_value\n",
    "        else:\n",
    "            p = 1 / math.sqrt(i)\n",
    "            q = random.uniform(0, 1)\n",
    "            \n",
    "            if p > q:\n",
    "                current_solution = new_solution\n",
    "                current_value = new_value\n",
    "        \n",
    "        if current_value < best_value:\n",
    "            best_solution = current_solution.copy()\n",
    "            best_value = current_value\n",
    "    \n",
    "    return best_value, best_solution"
   ],
   "metadata": {
    "collapsed": false,
    "ExecuteTime": {
     "end_time": "2024-02-05T19:46:43.818125600Z",
     "start_time": "2024-02-05T19:46:43.810911600Z"
    }
   },
   "id": "a86800a7abc1ca8e",
   "execution_count": 94
  },
  {
   "cell_type": "code",
   "outputs": [],
   "source": [
    "def readFile(filename):\n",
    "    with open(filename, 'r') as f:\n",
    "        numCities = [int(x) for x in f.readline().split()][0]\n",
    "        D = [[int(x) for x in f.readline().split()] for i in range(numCities)]\n",
    "        return D"
   ],
   "metadata": {
    "collapsed": false,
    "ExecuteTime": {
     "end_time": "2024-02-05T19:46:45.193888700Z",
     "start_time": "2024-02-05T19:46:45.156560600Z"
    }
   },
   "id": "509abe4b3d2235b4",
   "execution_count": 95
  },
  {
   "cell_type": "code",
   "outputs": [],
   "source": [
    "D_2 = readFile('tsp_input.txt')"
   ],
   "metadata": {
    "collapsed": false,
    "ExecuteTime": {
     "end_time": "2024-02-05T19:46:45.733776800Z",
     "start_time": "2024-02-05T19:46:45.713801200Z"
    }
   },
   "id": "6efede439d05a95f",
   "execution_count": 96
  },
  {
   "cell_type": "code",
   "outputs": [
    {
     "name": "stdout",
     "output_type": "stream",
     "text": [
      "(7, [2, 1, 3, 0])\n"
     ]
    }
   ],
   "source": [
    "print(simulatedAnnealing(D, 100))"
   ],
   "metadata": {
    "collapsed": false,
    "ExecuteTime": {
     "end_time": "2024-02-05T19:46:46.609435900Z",
     "start_time": "2024-02-05T19:46:46.579486800Z"
    }
   },
   "id": "b7aa426cc2077e4b",
   "execution_count": 97
  },
  {
   "cell_type": "code",
   "outputs": [
    {
     "name": "stdout",
     "output_type": "stream",
     "text": [
      "(71627, [25, 9, 11, 12, 28, 20, 19, 26, 15, 3, 21, 13, 27, 24, 22, 16, 18, 7, 4, 0, 1, 10, 8, 2, 5, 6, 14, 17, 23])\n"
     ]
    }
   ],
   "source": [
    "print(simulatedAnnealing(D_2, 100000))"
   ],
   "metadata": {
    "collapsed": false,
    "ExecuteTime": {
     "end_time": "2024-02-05T19:46:50.733071100Z",
     "start_time": "2024-02-05T19:46:48.555082800Z"
    }
   },
   "id": "6f5ae50dcbc5d25",
   "execution_count": 98
  },
  {
   "cell_type": "code",
   "outputs": [],
   "source": [
    "D_3 = [[0, 10, 15, 20],\n",
    "       [10, 0, 35, 25],\n",
    "       [15, 35, 0, 30],\n",
    "       [20, 25, 30, 0]]"
   ],
   "metadata": {
    "collapsed": false,
    "ExecuteTime": {
     "end_time": "2024-02-05T19:46:54.388587100Z",
     "start_time": "2024-02-05T19:46:54.368304700Z"
    }
   },
   "id": "800722fa3a6bf0bc",
   "execution_count": 99
  },
  {
   "cell_type": "code",
   "outputs": [
    {
     "name": "stdout",
     "output_type": "stream",
     "text": [
      "(80, [3, 2, 0, 1])\n"
     ]
    }
   ],
   "source": [
    "print(simulatedAnnealing(D_3, 100))"
   ],
   "metadata": {
    "collapsed": false,
    "ExecuteTime": {
     "end_time": "2024-02-05T19:47:11.813237700Z",
     "start_time": "2024-02-05T19:47:11.684767200Z"
    }
   },
   "id": "d8e4ce98f77f4963",
   "execution_count": 103
  },
  {
   "cell_type": "code",
   "outputs": [
    {
     "name": "stdout",
     "output_type": "stream",
     "text": [
      "(37, [5, 4, 0, 1, 3, 2])\n"
     ]
    }
   ],
   "source": [
    "D_4 = readFile(\"tsp_input_2.txt\")\n",
    "print(simulatedAnnealing(D_4, 1000))"
   ],
   "metadata": {
    "collapsed": false,
    "ExecuteTime": {
     "end_time": "2024-02-05T19:47:12.788650Z",
     "start_time": "2024-02-05T19:47:12.757216600Z"
    }
   },
   "id": "2b7d69504de14b75",
   "execution_count": 104
  },
  {
   "cell_type": "code",
   "outputs": [],
   "source": [],
   "metadata": {
    "collapsed": false,
    "ExecuteTime": {
     "end_time": "2024-02-05T19:46:34.015326100Z",
     "start_time": "2024-02-05T19:46:33.995491600Z"
    }
   },
   "id": "8e0ce7ff89aef845",
   "execution_count": 93
  },
  {
   "cell_type": "code",
   "outputs": [],
   "source": [],
   "metadata": {
    "collapsed": false
   },
   "id": "74b1854a001fc9ff"
  }
 ],
 "metadata": {
  "kernelspec": {
   "display_name": "Python 3",
   "language": "python",
   "name": "python3"
  },
  "language_info": {
   "codemirror_mode": {
    "name": "ipython",
    "version": 2
   },
   "file_extension": ".py",
   "mimetype": "text/x-python",
   "name": "python",
   "nbconvert_exporter": "python",
   "pygments_lexer": "ipython2",
   "version": "2.7.6"
  }
 },
 "nbformat": 4,
 "nbformat_minor": 5
}
