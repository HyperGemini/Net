{
  "nbformat": 4,
  "nbformat_minor": 0,
  "metadata": {
    "kernelspec": {
      "display_name": "Python 3",
      "language": "python",
      "name": "python3"
    },
    "language_info": {
      "codemirror_mode": {
        "name": "ipython",
        "version": 3
      },
      "file_extension": ".py",
      "mimetype": "text/x-python",
      "name": "python",
      "nbconvert_exporter": "python",
      "pygments_lexer": "ipython3",
      "version": "3.8.3"
    },
    "colab": {
      "name": "Boston.ipynb",
      "provenance": [],
      "collapsed_sections": []
    }
  },
  "cells": [
    {
      "cell_type": "code",
      "metadata": {
        "id": "nDKJFEGH6cfc"
      },
      "source": [
        "import numpy as np\n",
        "import matplotlib.pyplot as plt\n",
        "import pandas as pd\n",
        "\n",
        "import keras\n",
        "\n",
        "from sklearn import model_selection\n",
        "from sklearn.preprocessing import StandardScaler\n",
        "from sklearn.datasets import load_boston\n",
        "\n",
        "%matplotlib inline"
      ],
      "execution_count": 1,
      "outputs": []
    },
    {
      "cell_type": "code",
      "metadata": {
        "id": "WQlS9rXk6cfl"
      },
      "source": [
        "attributes = ['CRIM', 'ZN', 'INDUS', 'CHAS', 'NOX', 'RM', 'AGE', 'DIS', 'RAD', 'TAX', 'PTRATIO', 'B', 'LSTAT']\n",
        "target_variable = ['MEDV']"
      ],
      "execution_count": 2,
      "outputs": []
    },
    {
      "cell_type": "markdown",
      "metadata": {
        "id": "6cNYH30e6cfm"
      },
      "source": [
        "a) Učitati podatke iz datoteke `boston.csv` za problem regresije. Prikazati referentne statistike za atribute\n",
        "koristeći `pandas` metod `describe`."
      ]
    },
    {
      "cell_type": "code",
      "metadata": {
        "colab": {
          "base_uri": "https://localhost:8080/"
        },
        "id": "3NoDEWhs6cfo",
        "outputId": "8079e1d5-e66a-4926-82f3-d83a350b99b1"
      },
      "source": [
        "data = pd.read_csv('/content/boston.csv')\n",
        "print(data.describe())"
      ],
      "execution_count": 3,
      "outputs": [
        {
          "output_type": "stream",
          "name": "stdout",
          "text": [
            "             CRIM          ZN       INDUS  ...           B       LSTAT        MEDV\n",
            "count  506.000000  506.000000  506.000000  ...  506.000000  506.000000  506.000000\n",
            "mean     3.613524   11.363636   11.136779  ...  356.674032   12.653063   22.532806\n",
            "std      8.601545   23.322453    6.860353  ...   91.294864    7.141062    9.197104\n",
            "min      0.006320    0.000000    0.460000  ...    0.320000    1.730000    5.000000\n",
            "25%      0.082045    0.000000    5.190000  ...  375.377500    6.950000   17.025000\n",
            "50%      0.256510    0.000000    9.690000  ...  391.440000   11.360000   21.200000\n",
            "75%      3.677082   12.500000   18.100000  ...  396.225000   16.955000   25.000000\n",
            "max     88.976200  100.000000   27.740000  ...  396.900000   37.970000   50.000000\n",
            "\n",
            "[8 rows x 14 columns]\n"
          ]
        }
      ]
    },
    {
      "cell_type": "markdown",
      "metadata": {
        "id": "p-M8kDl76cfp"
      },
      "source": [
        "b) Učitane podatke razdvojiti u dva podskupa, $X$ gde se nalaze svi atributi bez ciljne promenljive `MEDV`, i $y$ gde se\n",
        "nalazi ciljna promenljiva `MEDV`. Dozvoljeno je koristiti sve dostupne bibliotečke funkcije."
      ]
    },
    {
      "cell_type": "code",
      "metadata": {
        "colab": {
          "base_uri": "https://localhost:8080/"
        },
        "id": "6QVh1JaH6cfq",
        "outputId": "1f457275-ef74-4a72-e768-270ba268e945"
      },
      "source": [
        "X = data.drop(columns=['MEDV'])\n",
        "y = data[['MEDV']]\n",
        "\n",
        "print(y)"
      ],
      "execution_count": 4,
      "outputs": [
        {
          "output_type": "stream",
          "name": "stdout",
          "text": [
            "     MEDV\n",
            "0    24.0\n",
            "1    21.6\n",
            "2    34.7\n",
            "3    33.4\n",
            "4    36.2\n",
            "..    ...\n",
            "501  22.4\n",
            "502  20.6\n",
            "503  23.9\n",
            "504  22.0\n",
            "505  11.9\n",
            "\n",
            "[506 rows x 1 columns]\n"
          ]
        }
      ]
    },
    {
      "cell_type": "markdown",
      "metadata": {
        "id": "JSQMGyX06cfr"
      },
      "source": [
        "c) Podeliti podatke na skup za obučavanje i validaciju u razmeri 3:1. "
      ]
    },
    {
      "cell_type": "code",
      "metadata": {
        "id": "iARiJ92g6cfs"
      },
      "source": [
        "training_data = X.sample(frac=0.75, random_state=0)\n",
        "validation_data = X.drop(training_data.index)"
      ],
      "execution_count": 5,
      "outputs": []
    },
    {
      "cell_type": "markdown",
      "metadata": {
        "id": "yiaUTsxN6cft"
      },
      "source": [
        "d) Izvršiti standardizaciju podataka."
      ]
    },
    {
      "cell_type": "code",
      "metadata": {
        "id": "MOXn-wnx6cfw"
      },
      "source": [
        "scaler = StandardScaler()\n",
        "scaled_training_data = scaler.fit(training_data)\n",
        "scaled_validation_data = scaler.fit(validation_data)"
      ],
      "execution_count": 6,
      "outputs": []
    },
    {
      "cell_type": "markdown",
      "metadata": {
        "id": "WCCk10E96cfx"
      },
      "source": [
        "e) Napraviti potpuno povezanu neuronsku mrežu koja ima jedan skriveni sloj sa 32 neurona. Skrivenom sloju postaviti `ReLU` aktivaciju. Obratiti pažnju na dimenzije ulaza i izlaza neuronske mreže."
      ]
    },
    {
      "cell_type": "code",
      "metadata": {
        "id": "WQrUvyRG6cfz"
      },
      "source": [
        "model = keras.Sequential([\n",
        "     keras.layers.Dense(32, activation='relu', input_shape=[len(training_data.keys())]),\n",
        "     keras.layers.Dense(1)\n",
        "     ])"
      ],
      "execution_count": 7,
      "outputs": []
    },
    {
      "cell_type": "markdown",
      "metadata": {
        "id": "GlCzsulW6cf2"
      },
      "source": [
        "f) Izvršiti obučavanje prethodno definisane mreže na 10 epoha sa veličinom podskupa 32. Kao grešku koristiti srednje-kvadratnu grešku, ostale parametre odabrati proizvoljno. Pratiti i srednju-apsolutnu grešku. Kao podatke za validaciju postaviti podatke iz validacionog skupa."
      ]
    },
    {
      "cell_type": "code",
      "metadata": {
        "id": "Q_VUQa4l6cf3"
      },
      "source": [
        "#model.compile(optimizer='adam', loss='mean_squared_error', metrics=['mae', 'mse'])\n",
        "#history = model.fit(x=scaled_training_data, y=target_variable)"
      ],
      "execution_count": 10,
      "outputs": []
    },
    {
      "cell_type": "markdown",
      "metadata": {
        "id": "prGi8Ymr6cf4"
      },
      "source": [
        "g) Nacrtati na istoj slici kako se menjala srednja-apsolutna greška kroz epohe na skupovima za obučavanje i validaciju. Označiti u legendi šta označava koja linija."
      ]
    },
    {
      "cell_type": "code",
      "metadata": {
        "id": "3HiyJkqg6cf5"
      },
      "source": [
        ""
      ],
      "execution_count": 7,
      "outputs": []
    },
    {
      "cell_type": "markdown",
      "metadata": {
        "id": "_pADn3zW6cf5"
      },
      "source": [
        "h) Testirati nekoliko verzija prethodne arhitekture tako što im se varira veličina skrivenog sloja (1, 2, 3, 10, 32, 64).\n",
        "Obučiti svaku mrežu nad podacima za obučavanje i nacrtati kako se menjala srednja-apsolutna greška kroz epohe nad skupovima za obučavanje i validaciju.\n",
        "Koristiti iste parametre pri obučavanju kao u delu (f)."
      ]
    },
    {
      "cell_type": "code",
      "metadata": {
        "id": "uWBdeqWJ6cf6"
      },
      "source": [
        ""
      ],
      "execution_count": 7,
      "outputs": []
    },
    {
      "cell_type": "markdown",
      "metadata": {
        "id": "WsF-mc0L6cf6"
      },
      "source": [
        "i) Nacrtati kako se menjala srednja-apsolutna greška kroz epohe svih modela na skupu za obučavanje (1. slika) i skupu za validaciju (2. slika). Na slikama označiti koja linija označava koju verziju arhitekture."
      ]
    },
    {
      "cell_type": "code",
      "metadata": {
        "id": "_u8GHdJx6cf6"
      },
      "source": [
        ""
      ],
      "execution_count": 7,
      "outputs": []
    }
  ]
}